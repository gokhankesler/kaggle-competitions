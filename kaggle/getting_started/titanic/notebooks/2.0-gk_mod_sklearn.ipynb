{
 "cells": [
  {
   "cell_type": "code",
   "execution_count": 33,
   "metadata": {},
   "outputs": [],
   "source": [
    "import pandas as pd\n",
    "\n",
    "import pandas as pd\n",
    "import numpy as np\n",
    "\n",
    "from sklearn.model_selection import train_test_split\n",
    "from sklearn.metrics import accuracy_score\n",
    "from sklearn.metrics import precision_score\n",
    "from sklearn.metrics import recall_score\n",
    "\n",
    "from sklearn.linear_model import LogisticRegression\n",
    "from sklearn.discriminant_analysis import LinearDiscriminantAnalysis\n",
    "from sklearn.linear_model import SGDClassifier\n",
    "from sklearn.svm import LinearSVC\n",
    "from sklearn.neighbors import RadiusNeighborsClassifier\n",
    "from sklearn.naive_bayes import GaussianNB\n",
    "from sklearn.tree import DecisionTreeClassifier\n",
    "\n",
    "import pickle\n"
   ]
  },
  {
   "cell_type": "code",
   "execution_count": 34,
   "metadata": {},
   "outputs": [
    {
     "data": {
      "text/plain": [
       "((418, 13), (891, 14))"
      ]
     },
     "execution_count": 34,
     "metadata": {},
     "output_type": "execute_result"
    }
   ],
   "source": [
    "test = pd.read_csv('../data/clean/test.csv')\n",
    "train = pd.read_csv('../data/clean/train.csv')\n",
    "test.shape, train.shape"
   ]
  },
  {
   "cell_type": "code",
   "execution_count": 35,
   "metadata": {},
   "outputs": [
    {
     "data": {
      "text/plain": [
       "['PassengerId',\n",
       " 'Survived',\n",
       " 'Pclass',\n",
       " 'Age',\n",
       " 'SibSp',\n",
       " 'Parch',\n",
       " 'Fare',\n",
       " 'Miss',\n",
       " 'Mr',\n",
       " 'Mrs',\n",
       " 'Rare',\n",
       " 'male']"
      ]
     },
     "execution_count": 35,
     "metadata": {},
     "output_type": "execute_result"
    }
   ],
   "source": [
    "FEATURES = list(train.columns[:-2])\n",
    "FEATURES"
   ]
  },
  {
   "cell_type": "code",
   "execution_count": 36,
   "metadata": {},
   "outputs": [],
   "source": [
    "result_dict = {}\n",
    "models = {}"
   ]
  },
  {
   "cell_type": "code",
   "execution_count": 37,
   "metadata": {},
   "outputs": [],
   "source": [
    "def summarize_classification(y_test, y_pred):\n",
    "    \n",
    "    acc = accuracy_score(y_test, y_pred, normalize=True)\n",
    "    num_acc = accuracy_score(y_test, y_pred, normalize=False)\n",
    "\n",
    "    prec = precision_score(y_test, y_pred)\n",
    "    recall = recall_score(y_test, y_pred)\n",
    "    \n",
    "    return {'accuracy': round(acc,2), \n",
    "            'precision': round(prec,2),\n",
    "            'recall':round(recall,2), \n",
    "            'accuracy_count':num_acc}"
   ]
  },
  {
   "cell_type": "code",
   "execution_count": 38,
   "metadata": {},
   "outputs": [],
   "source": [
    "def build_model(classifier_fn,                \n",
    "                name_of_y_col, \n",
    "                names_of_x_cols, \n",
    "                dataset, \n",
    "                test_frac=0.2):\n",
    "    \n",
    "    X = dataset[names_of_x_cols]\n",
    "    Y = dataset[name_of_y_col]\n",
    "\n",
    "    x_train, x_test, y_train, y_test = train_test_split(X, Y, test_size=test_frac)\n",
    "       \n",
    "    model = classifier_fn(x_train, y_train)\n",
    "    \n",
    "    y_pred = model.predict(x_test)\n",
    "\n",
    "    y_pred_train = model.predict(x_train)\n",
    "    \n",
    "    train_summary = summarize_classification(y_train, y_pred_train)\n",
    "    test_summary = summarize_classification(y_test, y_pred)\n",
    "    \n",
    "    pred_results = pd.DataFrame({'y_test': y_test,\n",
    "                                 'y_pred': y_pred})\n",
    "    \n",
    "    model_crosstab = pd.crosstab(pred_results.y_pred, pred_results.y_test)\n",
    "\n",
    "        \n",
    "    models[classifier_fn.__name__] = model\n",
    "    \n",
    "    return {'training': train_summary, \n",
    "            'test': test_summary,\n",
    "            'confusion_matrix': model_crosstab}"
   ]
  },
  {
   "cell_type": "code",
   "execution_count": 39,
   "metadata": {},
   "outputs": [],
   "source": [
    "def compare_results():\n",
    "    for key in result_dict:\n",
    "        print('Classification: ', key)\n",
    "\n",
    "        print()\n",
    "        print('Training data')\n",
    "        for score in result_dict[key]['training']:\n",
    "            print(score, result_dict[key]['training'][score])\n",
    "\n",
    "        print()\n",
    "        print('Test data')\n",
    "        for score in result_dict[key]['test']:\n",
    "            print(score, result_dict[key]['test'][score])\n",
    "       \n",
    "        print()"
   ]
  },
  {
   "cell_type": "code",
   "execution_count": 40,
   "metadata": {},
   "outputs": [],
   "source": [
    "def logistic_fn(x_train, y_train):\n",
    "    \n",
    "    model = LogisticRegression(solver='liblinear')\n",
    "    model.fit(x_train, y_train)\n",
    "\n",
    "    return model"
   ]
  },
  {
   "cell_type": "code",
   "execution_count": 41,
   "metadata": {},
   "outputs": [
    {
     "name": "stdout",
     "output_type": "stream",
     "text": [
      "Classification:  survived ~ logistic\n",
      "\n",
      "Training data\n",
      "accuracy 1.0\n",
      "precision 1.0\n",
      "recall 1.0\n",
      "accuracy_count 712\n",
      "\n",
      "Test data\n",
      "accuracy 1.0\n",
      "precision 1.0\n",
      "recall 1.0\n",
      "accuracy_count 179\n",
      "\n"
     ]
    }
   ],
   "source": [
    "result_dict['survived ~ logistic'] = build_model(logistic_fn,\n",
    "                                              'Survived',\n",
    "                                               FEATURES,\n",
    "                                               train)\n",
    "\n",
    "compare_results()"
   ]
  },
  {
   "cell_type": "code",
   "execution_count": 42,
   "metadata": {},
   "outputs": [],
   "source": [
    "def linear_discriminant_fn(x_train, y_train, solver='svd'):\n",
    "    \n",
    "    model = LinearDiscriminantAnalysis(solver=solver)\n",
    "    model.fit(x_train, y_train)\n",
    "    \n",
    "    return model"
   ]
  },
  {
   "cell_type": "code",
   "execution_count": 43,
   "metadata": {},
   "outputs": [
    {
     "name": "stdout",
     "output_type": "stream",
     "text": [
      "Classification:  survived ~ logistic\n",
      "\n",
      "Training data\n",
      "accuracy 1.0\n",
      "precision 1.0\n",
      "recall 1.0\n",
      "accuracy_count 712\n",
      "\n",
      "Test data\n",
      "accuracy 1.0\n",
      "precision 1.0\n",
      "recall 1.0\n",
      "accuracy_count 179\n",
      "\n",
      "Classification:  survived ~ linear_discriminant_analysis\n",
      "\n",
      "Training data\n",
      "accuracy 0.83\n",
      "precision 0.8\n",
      "recall 0.74\n",
      "accuracy_count 593\n",
      "\n",
      "Test data\n",
      "accuracy 0.84\n",
      "precision 0.85\n",
      "recall 0.75\n",
      "accuracy_count 150\n",
      "\n"
     ]
    }
   ],
   "source": [
    "result_dict['survived ~ linear_discriminant_analysis'] = build_model(linear_discriminant_fn,\n",
    "                                                                 'Survived',\n",
    "                                                                  FEATURES,\n",
    "                                                                  train)\n",
    "compare_results()"
   ]
  },
  {
   "cell_type": "code",
   "execution_count": 44,
   "metadata": {},
   "outputs": [],
   "source": [
    "def sgd_fn(x_train, y_train, max_iter=1000, tol=1e-3):\n",
    "    \n",
    "    model = SGDClassifier(max_iter=max_iter, tol=tol)\n",
    "    model.fit(x_train, y_train)\n",
    "     \n",
    "    return model"
   ]
  },
  {
   "cell_type": "code",
   "execution_count": 45,
   "metadata": {},
   "outputs": [
    {
     "name": "stdout",
     "output_type": "stream",
     "text": [
      "Classification:  survived ~ logistic\n",
      "\n",
      "Training data\n",
      "accuracy 1.0\n",
      "precision 1.0\n",
      "recall 1.0\n",
      "accuracy_count 712\n",
      "\n",
      "Test data\n",
      "accuracy 1.0\n",
      "precision 1.0\n",
      "recall 1.0\n",
      "accuracy_count 179\n",
      "\n",
      "Classification:  survived ~ linear_discriminant_analysis\n",
      "\n",
      "Training data\n",
      "accuracy 0.83\n",
      "precision 0.8\n",
      "recall 0.74\n",
      "accuracy_count 593\n",
      "\n",
      "Test data\n",
      "accuracy 0.84\n",
      "precision 0.85\n",
      "recall 0.75\n",
      "accuracy_count 150\n",
      "\n",
      "Classification:  survived ~ sgd\n",
      "\n",
      "Training data\n",
      "accuracy 0.53\n",
      "precision 0.44\n",
      "recall 1.0\n",
      "accuracy_count 374\n",
      "\n",
      "Test data\n",
      "accuracy 0.54\n",
      "precision 0.49\n",
      "recall 0.97\n",
      "accuracy_count 97\n",
      "\n"
     ]
    }
   ],
   "source": [
    "result_dict['survived ~ sgd'] = build_model(sgd_fn,\n",
    "                                           'Survived',\n",
    "                                            FEATURES,\n",
    "                                            train)\n",
    "\n",
    "compare_results()"
   ]
  },
  {
   "cell_type": "code",
   "execution_count": 46,
   "metadata": {},
   "outputs": [],
   "source": [
    "def linear_svc_fn(x_train, y_train, C=1.0, max_iter=1000, tol=1e-3):\n",
    "    \n",
    "    model = LinearSVC(C=C, max_iter=max_iter, tol=tol, dual=False)\n",
    "    model.fit(x_train, y_train) \n",
    "    \n",
    "    return model"
   ]
  },
  {
   "cell_type": "code",
   "execution_count": 47,
   "metadata": {},
   "outputs": [
    {
     "name": "stdout",
     "output_type": "stream",
     "text": [
      "Classification:  survived ~ logistic\n",
      "\n",
      "Training data\n",
      "accuracy 1.0\n",
      "precision 1.0\n",
      "recall 1.0\n",
      "accuracy_count 712\n",
      "\n",
      "Test data\n",
      "accuracy 1.0\n",
      "precision 1.0\n",
      "recall 1.0\n",
      "accuracy_count 179\n",
      "\n",
      "Classification:  survived ~ linear_discriminant_analysis\n",
      "\n",
      "Training data\n",
      "accuracy 0.83\n",
      "precision 0.8\n",
      "recall 0.74\n",
      "accuracy_count 593\n",
      "\n",
      "Test data\n",
      "accuracy 0.84\n",
      "precision 0.85\n",
      "recall 0.75\n",
      "accuracy_count 150\n",
      "\n",
      "Classification:  survived ~ sgd\n",
      "\n",
      "Training data\n",
      "accuracy 0.53\n",
      "precision 0.44\n",
      "recall 1.0\n",
      "accuracy_count 374\n",
      "\n",
      "Test data\n",
      "accuracy 0.54\n",
      "precision 0.49\n",
      "recall 0.97\n",
      "accuracy_count 97\n",
      "\n",
      "Classification:  survived ~ linear_svc\n",
      "\n",
      "Training data\n",
      "accuracy 1.0\n",
      "precision 1.0\n",
      "recall 1.0\n",
      "accuracy_count 712\n",
      "\n",
      "Test data\n",
      "accuracy 1.0\n",
      "precision 1.0\n",
      "recall 1.0\n",
      "accuracy_count 179\n",
      "\n"
     ]
    }
   ],
   "source": [
    "result_dict['survived ~ linear_svc'] = build_model(linear_svc_fn,\n",
    "                                                  'Survived',\n",
    "                                                   FEATURES,\n",
    "                                                   train)\n",
    "\n",
    "compare_results()"
   ]
  },
  {
   "cell_type": "code",
   "execution_count": 48,
   "metadata": {},
   "outputs": [],
   "source": [
    "def radius_neighbor_fn(x_train, y_train, radius=40.0):\n",
    "\n",
    "    model = RadiusNeighborsClassifier(radius=radius)\n",
    "    model.fit(x_train, y_train) \n",
    "    \n",
    "    return model"
   ]
  },
  {
   "cell_type": "code",
   "execution_count": 49,
   "metadata": {},
   "outputs": [
    {
     "name": "stdout",
     "output_type": "stream",
     "text": [
      "Classification:  survived ~ logistic\n",
      "\n",
      "Training data\n",
      "accuracy 1.0\n",
      "precision 1.0\n",
      "recall 1.0\n",
      "accuracy_count 712\n",
      "\n",
      "Test data\n",
      "accuracy 1.0\n",
      "precision 1.0\n",
      "recall 1.0\n",
      "accuracy_count 179\n",
      "\n",
      "Classification:  survived ~ linear_discriminant_analysis\n",
      "\n",
      "Training data\n",
      "accuracy 0.83\n",
      "precision 0.8\n",
      "recall 0.74\n",
      "accuracy_count 593\n",
      "\n",
      "Test data\n",
      "accuracy 0.84\n",
      "precision 0.85\n",
      "recall 0.75\n",
      "accuracy_count 150\n",
      "\n",
      "Classification:  survived ~ sgd\n",
      "\n",
      "Training data\n",
      "accuracy 0.53\n",
      "precision 0.44\n",
      "recall 1.0\n",
      "accuracy_count 374\n",
      "\n",
      "Test data\n",
      "accuracy 0.54\n",
      "precision 0.49\n",
      "recall 0.97\n",
      "accuracy_count 97\n",
      "\n",
      "Classification:  survived ~ linear_svc\n",
      "\n",
      "Training data\n",
      "accuracy 1.0\n",
      "precision 1.0\n",
      "recall 1.0\n",
      "accuracy_count 712\n",
      "\n",
      "Test data\n",
      "accuracy 1.0\n",
      "precision 1.0\n",
      "recall 1.0\n",
      "accuracy_count 179\n",
      "\n",
      "Classification:  survived ~ radius_neighbors\n",
      "\n",
      "Training data\n",
      "accuracy 0.62\n",
      "precision 0.51\n",
      "recall 0.11\n",
      "accuracy_count 440\n",
      "\n",
      "Test data\n",
      "accuracy 0.59\n",
      "precision 0.36\n",
      "recall 0.07\n",
      "accuracy_count 106\n",
      "\n"
     ]
    }
   ],
   "source": [
    "result_dict['survived ~ radius_neighbors'] = build_model(radius_neighbor_fn,\n",
    "                                                         'Survived',\n",
    "                                                         FEATURES,\n",
    "                                                         train)\n",
    "compare_results()"
   ]
  },
  {
   "cell_type": "code",
   "execution_count": 50,
   "metadata": {},
   "outputs": [],
   "source": [
    "def decision_tree_fn(x_train, y_train, max_depth=None, max_features=None): \n",
    "    \n",
    "    model = DecisionTreeClassifier(max_depth=max_depth, max_features=max_features)\n",
    "    model.fit(x_train, y_train)\n",
    "    \n",
    "    return model"
   ]
  },
  {
   "cell_type": "code",
   "execution_count": 51,
   "metadata": {},
   "outputs": [
    {
     "name": "stdout",
     "output_type": "stream",
     "text": [
      "Classification:  survived ~ logistic\n",
      "\n",
      "Training data\n",
      "accuracy 1.0\n",
      "precision 1.0\n",
      "recall 1.0\n",
      "accuracy_count 712\n",
      "\n",
      "Test data\n",
      "accuracy 1.0\n",
      "precision 1.0\n",
      "recall 1.0\n",
      "accuracy_count 179\n",
      "\n",
      "Classification:  survived ~ linear_discriminant_analysis\n",
      "\n",
      "Training data\n",
      "accuracy 0.83\n",
      "precision 0.8\n",
      "recall 0.74\n",
      "accuracy_count 593\n",
      "\n",
      "Test data\n",
      "accuracy 0.84\n",
      "precision 0.85\n",
      "recall 0.75\n",
      "accuracy_count 150\n",
      "\n",
      "Classification:  survived ~ sgd\n",
      "\n",
      "Training data\n",
      "accuracy 0.53\n",
      "precision 0.44\n",
      "recall 1.0\n",
      "accuracy_count 374\n",
      "\n",
      "Test data\n",
      "accuracy 0.54\n",
      "precision 0.49\n",
      "recall 0.97\n",
      "accuracy_count 97\n",
      "\n",
      "Classification:  survived ~ linear_svc\n",
      "\n",
      "Training data\n",
      "accuracy 1.0\n",
      "precision 1.0\n",
      "recall 1.0\n",
      "accuracy_count 712\n",
      "\n",
      "Test data\n",
      "accuracy 1.0\n",
      "precision 1.0\n",
      "recall 1.0\n",
      "accuracy_count 179\n",
      "\n",
      "Classification:  survived ~ radius_neighbors\n",
      "\n",
      "Training data\n",
      "accuracy 0.62\n",
      "precision 0.51\n",
      "recall 0.11\n",
      "accuracy_count 440\n",
      "\n",
      "Test data\n",
      "accuracy 0.59\n",
      "precision 0.36\n",
      "recall 0.07\n",
      "accuracy_count 106\n",
      "\n",
      "Classification:  survived ~ decision_tree\n",
      "\n",
      "Training data\n",
      "accuracy 1.0\n",
      "precision 1.0\n",
      "recall 1.0\n",
      "accuracy_count 712\n",
      "\n",
      "Test data\n",
      "accuracy 1.0\n",
      "precision 1.0\n",
      "recall 1.0\n",
      "accuracy_count 179\n",
      "\n"
     ]
    }
   ],
   "source": [
    "result_dict['survived ~ decision_tree'] = build_model(decision_tree_fn,\n",
    "                                                 'Survived',\n",
    "                                                  FEATURES,\n",
    "                                                  train)\n",
    "\n",
    "compare_results()"
   ]
  },
  {
   "cell_type": "code",
   "execution_count": 52,
   "metadata": {},
   "outputs": [],
   "source": [
    "def naive_bayes_fn(x_train,y_train, priors=None):\n",
    "    \n",
    "    model = GaussianNB(priors=priors)\n",
    "    model.fit(x_train, y_train)\n",
    "    \n",
    "    return model"
   ]
  },
  {
   "cell_type": "code",
   "execution_count": 53,
   "metadata": {},
   "outputs": [
    {
     "name": "stdout",
     "output_type": "stream",
     "text": [
      "Classification:  survived ~ logistic\n",
      "\n",
      "Training data\n",
      "accuracy 1.0\n",
      "precision 1.0\n",
      "recall 1.0\n",
      "accuracy_count 712\n",
      "\n",
      "Test data\n",
      "accuracy 1.0\n",
      "precision 1.0\n",
      "recall 1.0\n",
      "accuracy_count 179\n",
      "\n",
      "Classification:  survived ~ linear_discriminant_analysis\n",
      "\n",
      "Training data\n",
      "accuracy 0.83\n",
      "precision 0.8\n",
      "recall 0.74\n",
      "accuracy_count 593\n",
      "\n",
      "Test data\n",
      "accuracy 0.84\n",
      "precision 0.85\n",
      "recall 0.75\n",
      "accuracy_count 150\n",
      "\n",
      "Classification:  survived ~ sgd\n",
      "\n",
      "Training data\n",
      "accuracy 0.53\n",
      "precision 0.44\n",
      "recall 1.0\n",
      "accuracy_count 374\n",
      "\n",
      "Test data\n",
      "accuracy 0.54\n",
      "precision 0.49\n",
      "recall 0.97\n",
      "accuracy_count 97\n",
      "\n",
      "Classification:  survived ~ linear_svc\n",
      "\n",
      "Training data\n",
      "accuracy 1.0\n",
      "precision 1.0\n",
      "recall 1.0\n",
      "accuracy_count 712\n",
      "\n",
      "Test data\n",
      "accuracy 1.0\n",
      "precision 1.0\n",
      "recall 1.0\n",
      "accuracy_count 179\n",
      "\n",
      "Classification:  survived ~ radius_neighbors\n",
      "\n",
      "Training data\n",
      "accuracy 0.62\n",
      "precision 0.51\n",
      "recall 0.11\n",
      "accuracy_count 440\n",
      "\n",
      "Test data\n",
      "accuracy 0.59\n",
      "precision 0.36\n",
      "recall 0.07\n",
      "accuracy_count 106\n",
      "\n",
      "Classification:  survived ~ decision_tree\n",
      "\n",
      "Training data\n",
      "accuracy 1.0\n",
      "precision 1.0\n",
      "recall 1.0\n",
      "accuracy_count 712\n",
      "\n",
      "Test data\n",
      "accuracy 1.0\n",
      "precision 1.0\n",
      "recall 1.0\n",
      "accuracy_count 179\n",
      "\n",
      "Classification:  survived ~ naive_bayes\n",
      "\n",
      "Training data\n",
      "accuracy 1.0\n",
      "precision 1.0\n",
      "recall 1.0\n",
      "accuracy_count 712\n",
      "\n",
      "Test data\n",
      "accuracy 1.0\n",
      "precision 1.0\n",
      "recall 1.0\n",
      "accuracy_count 179\n",
      "\n"
     ]
    }
   ],
   "source": [
    "result_dict['survived ~ naive_bayes'] = build_model(naive_bayes_fn,\n",
    "                                                    'Survived',\n",
    "                                                    FEATURES,\n",
    "                                                    train)\n",
    "\n",
    "compare_results()"
   ]
  },
  {
   "cell_type": "code",
   "execution_count": 54,
   "metadata": {},
   "outputs": [],
   "source": [
    "training_ac = {}\n",
    "training_recall = {}\n",
    "training_precision = {}\n",
    "\n",
    "test_ac = {}\n",
    "test_recall = {}\n",
    "test_precision = {}\n",
    "\n",
    "for key, val, in result_dict.items():\n",
    "    for key2, val2 in val.items():\n",
    "        for key3, val3 in val2.items():\n",
    "            if key2 == 'training':\n",
    "                if key3 == 'accuracy':\n",
    "                    training_ac[key] = val3\n",
    "                elif key3 == 'precision':\n",
    "                    training_precision[key] = val3\n",
    "                elif key3 == 'recall':\n",
    "                    training_recall[key] = val3\n",
    "            else:\n",
    "                if key3 == 'accuracy':\n",
    "                    test_ac[key] = val3\n",
    "                elif key3 == 'precision':\n",
    "                    test_precision[key] = val3\n",
    "                elif key3 == 'recall':\n",
    "                    test_recall[key] = val3\n",
    "        "
   ]
  },
  {
   "cell_type": "code",
   "execution_count": 55,
   "metadata": {},
   "outputs": [
    {
     "data": {
      "text/plain": [
       "{'survived ~ logistic': 1.0,\n",
       " 'survived ~ linear_discriminant_analysis': 0.83,\n",
       " 'survived ~ sgd': 0.53,\n",
       " 'survived ~ linear_svc': 1.0,\n",
       " 'survived ~ radius_neighbors': 0.62,\n",
       " 'survived ~ decision_tree': 1.0,\n",
       " 'survived ~ naive_bayes': 1.0}"
      ]
     },
     "execution_count": 55,
     "metadata": {},
     "output_type": "execute_result"
    }
   ],
   "source": [
    "training_ac"
   ]
  },
  {
   "cell_type": "code",
   "execution_count": 56,
   "metadata": {},
   "outputs": [
    {
     "data": {
      "text/plain": [
       "{'survived ~ logistic': 1.0,\n",
       " 'survived ~ linear_discriminant_analysis': 0.83,\n",
       " 'survived ~ sgd': 0.53,\n",
       " 'survived ~ linear_svc': 1.0,\n",
       " 'survived ~ radius_neighbors': 0.62,\n",
       " 'survived ~ decision_tree': 1.0,\n",
       " 'survived ~ naive_bayes': 1.0}"
      ]
     },
     "execution_count": 56,
     "metadata": {},
     "output_type": "execute_result"
    }
   ],
   "source": [
    "training_ac"
   ]
  },
  {
   "cell_type": "code",
   "execution_count": 57,
   "metadata": {},
   "outputs": [
    {
     "data": {
      "image/png": "[encoded data removed]",
      "text/plain": [
       "<Figure size 432x288 with 1 Axes>"
      ]
     },
     "metadata": {
      "needs_background": "light"
     },
     "output_type": "display_data"
    }
   ],
   "source": [
    "ax = pd.Series(training_ac).plot(kind='bar', label=True, include_bool=True)\n",
    "\n",
    "for p in ax.patches:\n",
    "    ax.annotate(str(p.get_height()), (p.get_x() * 1.005, p.get_height() * 1.005))\n"
   ]
  },
  {
   "cell_type": "code",
   "execution_count": 58,
   "metadata": {},
   "outputs": [
    {
     "data": {
      "image/png": "[encoded data removed]",
      "text/plain": [
       "<Figure size 432x288 with 1 Axes>"
      ]
     },
     "metadata": {
      "needs_background": "light"
     },
     "output_type": "display_data"
    }
   ],
   "source": [
    "ax = pd.Series(training_recall).plot(kind='bar', label=True, include_bool=True)\n",
    "\n",
    "for p in ax.patches:\n",
    "    ax.annotate(str(p.get_height()), (p.get_x() * 1.005, p.get_height() * 1.005))"
   ]
  },
  {
   "cell_type": "code",
   "execution_count": 59,
   "metadata": {},
   "outputs": [
    {
     "data": {
      "image/png": "[encoded data removed]",
      "text/plain": [
       "<Figure size 432x288 with 1 Axes>"
      ]
     },
     "metadata": {
      "needs_background": "light"
     },
     "output_type": "display_data"
    }
   ],
   "source": [
    "ax = pd.Series(training_precision).plot(kind='bar', label=True, include_bool=True)\n",
    "\n",
    "for p in ax.patches:\n",
    "    ax.annotate(str(p.get_height()), (p.get_x() * 1.005, p.get_height() * 1.005))"
   ]
  },
  {
   "cell_type": "code",
   "execution_count": 60,
   "metadata": {},
   "outputs": [
    {
     "data": {
      "image/png": "[encoded data removed]",
      "text/plain": [
       "<Figure size 432x288 with 1 Axes>"
      ]
     },
     "metadata": {
      "needs_background": "light"
     },
     "output_type": "display_data"
    }
   ],
   "source": [
    "ax = pd.Series(test_ac).plot(kind='bar', label=True, include_bool=True)\n",
    "\n",
    "for p in ax.patches:\n",
    "    ax.annotate(str(p.get_height()), (p.get_x() * 1.005, p.get_height() * 1.005))"
   ]
  },
  {
   "cell_type": "code",
   "execution_count": 61,
   "metadata": {},
   "outputs": [
    {
     "data": {
      "image/png": "[encoded data removed]",
      "text/plain": [
       "<Figure size 432x288 with 1 Axes>"
      ]
     },
     "metadata": {
      "needs_background": "light"
     },
     "output_type": "display_data"
    }
   ],
   "source": [
    "ax = pd.Series(test_recall).plot(kind='bar', label=True, include_bool=True)\n",
    "\n",
    "for p in ax.patches:\n",
    "    ax.annotate(str(p.get_height()), (p.get_x() * 1.005, p.get_height() * 1.005))"
   ]
  },
  {
   "cell_type": "code",
   "execution_count": 62,
   "metadata": {},
   "outputs": [
    {
     "data": {
      "image/png": "[encoded data removed]",
      "text/plain": [
       "<Figure size 432x288 with 1 Axes>"
      ]
     },
     "metadata": {
      "needs_background": "light"
     },
     "output_type": "display_data"
    }
   ],
   "source": [
    "ax = pd.Series(test_precision).plot(kind='bar', label=True, include_bool=True)\n",
    "\n",
    "for p in ax.patches:\n",
    "    ax.annotate(str(p.get_height()), (p.get_x() * 1.005, p.get_height() * 1.005))"
   ]
  },
  {
   "cell_type": "code",
   "execution_count": 63,
   "metadata": {},
   "outputs": [
    {
     "data": {
      "text/plain": [
       "{'logistic_fn': LogisticRegression(solver='liblinear'),\n",
       " 'linear_discriminant_fn': LinearDiscriminantAnalysis(),\n",
       " 'sgd_fn': SGDClassifier(),\n",
       " 'linear_svc_fn': LinearSVC(dual=False, tol=0.001),\n",
       " 'radius_neighbor_fn': RadiusNeighborsClassifier(radius=40.0),\n",
       " 'decision_tree_fn': DecisionTreeClassifier(),\n",
       " 'naive_bayes_fn': GaussianNB()}"
      ]
     },
     "execution_count": 63,
     "metadata": {},
     "output_type": "execute_result"
    }
   ],
   "source": [
    "models"
   ]
  },
  {
   "cell_type": "code",
   "execution_count": 65,
   "metadata": {},
   "outputs": [],
   "source": [
    "pickle.dump(models, open('../models/sklearn/all_models', 'wb'))"
   ]
  }
 ],
 "metadata": {
  "interpreter": {
   "hash": "590db1f3a10206fc0192763f49b0adf2b7f8cf5b10a677a098b9ce95ffa7e89c"
  },
  "kernelspec": {
   "display_name": "Python 3.8.2 64-bit ('.venv': venv)",
   "language": "python",
   "name": "python3"
  },
  "language_info": {
   "codemirror_mode": {
    "name": "ipython",
    "version": 3
   },
   "file_extension": ".py",
   "mimetype": "text/x-python",
   "name": "python",
   "nbconvert_exporter": "python",
   "pygments_lexer": "ipython3",
   "version": "3.8.2"
  },
  "orig_nbformat": 4
 },
 "nbformat": 4,
 "nbformat_minor": 2
}
