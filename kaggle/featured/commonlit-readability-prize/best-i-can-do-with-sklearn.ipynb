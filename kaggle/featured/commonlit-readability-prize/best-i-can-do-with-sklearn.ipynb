{
 "cells": [
  {
   "cell_type": "code",
   "execution_count": 1,
   "id": "wrapped-finding",
   "metadata": {
    "_cell_guid": "b1076dfc-b9ad-4769-8c92-a6c4dae69d19",
    "_uuid": "8f2839f25d086af736a60e9eeb907d3b93b6e0e5",
    "execution": {
     "iopub.execute_input": "2021-05-12T12:28:06.817240Z",
     "iopub.status.busy": "2021-05-12T12:28:06.816037Z",
     "iopub.status.idle": "2021-05-12T12:28:06.831017Z",
     "shell.execute_reply": "2021-05-12T12:28:06.831514Z"
    },
    "papermill": {
     "duration": 0.037769,
     "end_time": "2021-05-12T12:28:06.831872",
     "exception": false,
     "start_time": "2021-05-12T12:28:06.794103",
     "status": "completed"
    },
    "tags": []
   },
   "outputs": [
    {
     "name": "stdout",
     "output_type": "stream",
     "text": [
      "/kaggle/input/commonlitreadabilityprize/sample_submission.csv\n",
      "/kaggle/input/commonlitreadabilityprize/train.csv\n",
      "/kaggle/input/commonlitreadabilityprize/test.csv\n"
     ]
    }
   ],
   "source": [
    "# This Python 3 environment comes with many helpful analytics libraries installed\n",
    "# It is defined by the kaggle/python Docker image: https://github.com/kaggle/docker-python\n",
    "# For example, here's several helpful packages to load\n",
    "\n",
    "import numpy as np # linear algebra\n",
    "import pandas as pd # data processing, CSV file I/O (e.g. pd.read_csv)\n",
    "\n",
    "# Input data files are available in the read-only \"../input/\" directory\n",
    "# For example, running this (by clicking run or pressing Shift+Enter) will list all files under the input directory\n",
    "\n",
    "import os\n",
    "for dirname, _, filenames in os.walk('/kaggle/input'):\n",
    "    for filename in filenames:\n",
    "        print(os.path.join(dirname, filename))\n",
    "\n",
    "# You can write up to 20GB to the current directory (/kaggle/working/) that gets preserved as output when you create a version using \"Save & Run All\" \n",
    "# You can also write temporary files to /kaggle/temp/, but they won't be saved outside of the current session"
   ]
  },
  {
   "cell_type": "code",
   "execution_count": 2,
   "id": "finnish-chester",
   "metadata": {
    "execution": {
     "iopub.execute_input": "2021-05-12T12:28:06.869880Z",
     "iopub.status.busy": "2021-05-12T12:28:06.869250Z",
     "iopub.status.idle": "2021-05-12T12:28:06.872466Z",
     "shell.execute_reply": "2021-05-12T12:28:06.872969Z"
    },
    "papermill": {
     "duration": 0.024317,
     "end_time": "2021-05-12T12:28:06.873148",
     "exception": false,
     "start_time": "2021-05-12T12:28:06.848831",
     "status": "completed"
    },
    "tags": []
   },
   "outputs": [],
   "source": [
    "import pandas as pd\n",
    "import numpy as np"
   ]
  },
  {
   "cell_type": "code",
   "execution_count": 3,
   "id": "appropriate-category",
   "metadata": {
    "execution": {
     "iopub.execute_input": "2021-05-12T12:28:06.914709Z",
     "iopub.status.busy": "2021-05-12T12:28:06.914046Z",
     "iopub.status.idle": "2021-05-12T12:28:08.589330Z",
     "shell.execute_reply": "2021-05-12T12:28:08.588577Z"
    },
    "papermill": {
     "duration": 1.698171,
     "end_time": "2021-05-12T12:28:08.589523",
     "exception": false,
     "start_time": "2021-05-12T12:28:06.891352",
     "status": "completed"
    },
    "tags": []
   },
   "outputs": [],
   "source": [
    "from nltk.tokenize import word_tokenize, sent_tokenize\n",
    "from nltk.corpus import stopwords\n",
    "from string import punctuation\n",
    "from nltk.collections import *\n",
    "from nltk.stem.lancaster import LancasterStemmer\n",
    "from nltk.corpus import wordnet as wn\n",
    "from nltk.wsd import lesk"
   ]
  },
  {
   "cell_type": "code",
   "execution_count": 4,
   "id": "official-safety",
   "metadata": {
    "execution": {
     "iopub.execute_input": "2021-05-12T12:28:08.630270Z",
     "iopub.status.busy": "2021-05-12T12:28:08.629535Z",
     "iopub.status.idle": "2021-05-12T12:28:08.632050Z",
     "shell.execute_reply": "2021-05-12T12:28:08.632535Z"
    },
    "papermill": {
     "duration": 0.025725,
     "end_time": "2021-05-12T12:28:08.632744",
     "exception": false,
     "start_time": "2021-05-12T12:28:08.607019",
     "status": "completed"
    },
    "tags": []
   },
   "outputs": [],
   "source": [
    "from sklearn.feature_extraction.text import CountVectorizer\n",
    "from sklearn.feature_extraction.text import TfidfTransformer\n",
    "from sklearn.model_selection import train_test_split\n",
    "from sklearn.linear_model import LinearRegression, Ridge\n",
    "from sklearn.metrics import r2_score, mean_squared_error"
   ]
  },
  {
   "cell_type": "code",
   "execution_count": 5,
   "id": "behavioral-broadcast",
   "metadata": {
    "execution": {
     "iopub.execute_input": "2021-05-12T12:28:08.674794Z",
     "iopub.status.busy": "2021-05-12T12:28:08.674014Z",
     "iopub.status.idle": "2021-05-12T12:28:08.813190Z",
     "shell.execute_reply": "2021-05-12T12:28:08.812429Z"
    },
    "papermill": {
     "duration": 0.163876,
     "end_time": "2021-05-12T12:28:08.813347",
     "exception": false,
     "start_time": "2021-05-12T12:28:08.649471",
     "status": "completed"
    },
    "tags": []
   },
   "outputs": [],
   "source": [
    "df_train = pd.read_csv(\"/kaggle/input/commonlitreadabilityprize/train.csv\")\n",
    "df_test = pd.read_csv(\"/kaggle/input/commonlitreadabilityprize/test.csv\")\n",
    "submission = pd.read_csv(\"/kaggle/input/commonlitreadabilityprize/sample_submission.csv\")"
   ]
  },
  {
   "cell_type": "code",
   "execution_count": 6,
   "id": "little-carter",
   "metadata": {
    "execution": {
     "iopub.execute_input": "2021-05-12T12:28:08.855973Z",
     "iopub.status.busy": "2021-05-12T12:28:08.854920Z",
     "iopub.status.idle": "2021-05-12T12:28:08.859992Z",
     "shell.execute_reply": "2021-05-12T12:28:08.859349Z"
    },
    "papermill": {
     "duration": 0.029678,
     "end_time": "2021-05-12T12:28:08.860147",
     "exception": false,
     "start_time": "2021-05-12T12:28:08.830469",
     "status": "completed"
    },
    "tags": []
   },
   "outputs": [
    {
     "data": {
      "text/plain": [
       "(2834, 6)"
      ]
     },
     "execution_count": 6,
     "metadata": {},
     "output_type": "execute_result"
    }
   ],
   "source": [
    "df_train.shape"
   ]
  },
  {
   "cell_type": "code",
   "execution_count": 7,
   "id": "breeding-accused",
   "metadata": {
    "execution": {
     "iopub.execute_input": "2021-05-12T12:28:08.902495Z",
     "iopub.status.busy": "2021-05-12T12:28:08.901449Z",
     "iopub.status.idle": "2021-05-12T12:28:08.905057Z",
     "shell.execute_reply": "2021-05-12T12:28:08.904433Z"
    },
    "papermill": {
     "duration": 0.027678,
     "end_time": "2021-05-12T12:28:08.905243",
     "exception": false,
     "start_time": "2021-05-12T12:28:08.877565",
     "status": "completed"
    },
    "tags": []
   },
   "outputs": [],
   "source": [
    "def text_process(mess):\n",
    "    \"\"\"\n",
    "    Takes in a string of text, then performs the following:\n",
    "    1. Remove all punctuation\n",
    "    2. Remove all stopwords\n",
    "    3. Returns a list of the cleaned text\n",
    "    \"\"\"\n",
    "    # Check characters to see if they are in punctuation\n",
    "    nopunc = [char for char in mess if char not in punctuation]\n",
    "\n",
    "    # Join the characters again to form the string.\n",
    "    nopunc = ''.join(nopunc)\n",
    "    \n",
    "    # Now just remove any stopwords\n",
    "    return nopunc"
   ]
  },
  {
   "cell_type": "code",
   "execution_count": 8,
   "id": "opposite-disabled",
   "metadata": {
    "execution": {
     "iopub.execute_input": "2021-05-12T12:28:08.969092Z",
     "iopub.status.busy": "2021-05-12T12:28:08.958688Z",
     "iopub.status.idle": "2021-05-12T12:28:09.222684Z",
     "shell.execute_reply": "2021-05-12T12:28:09.221909Z"
    },
    "papermill": {
     "duration": 0.29943,
     "end_time": "2021-05-12T12:28:09.222857",
     "exception": false,
     "start_time": "2021-05-12T12:28:08.923427",
     "status": "completed"
    },
    "tags": []
   },
   "outputs": [],
   "source": [
    "df_train[\"excerpt\"] = df_train[\"excerpt\"].apply(text_process)\n",
    "df_test[\"excerpt\"] = df_test[\"excerpt\"].apply(text_process)\n"
   ]
  },
  {
   "cell_type": "code",
   "execution_count": 9,
   "id": "intended-scout",
   "metadata": {
    "execution": {
     "iopub.execute_input": "2021-05-12T12:28:09.264924Z",
     "iopub.status.busy": "2021-05-12T12:28:09.264211Z",
     "iopub.status.idle": "2021-05-12T12:28:09.269967Z",
     "shell.execute_reply": "2021-05-12T12:28:09.269402Z"
    },
    "papermill": {
     "duration": 0.029407,
     "end_time": "2021-05-12T12:28:09.270130",
     "exception": false,
     "start_time": "2021-05-12T12:28:09.240723",
     "status": "completed"
    },
    "tags": []
   },
   "outputs": [],
   "source": [
    "from sklearn.pipeline import Pipeline\n",
    "pipeline = Pipeline([\n",
    "    ('bow', CountVectorizer(ngram_range=(1,3),\n",
    "                           stop_words=\"english\")),  # strings to token integer counts\n",
    "    ('tfidf', TfidfTransformer()),  # integer counts to weighted TF-IDF scores\n",
    "    ('classifier', Ridge(alpha=0.5)),  # train on TF-IDF vectors w/ Naive Bayes classifier\n",
    "])"
   ]
  },
  {
   "cell_type": "code",
   "execution_count": 10,
   "id": "south-annual",
   "metadata": {
    "execution": {
     "iopub.execute_input": "2021-05-12T12:28:09.314078Z",
     "iopub.status.busy": "2021-05-12T12:28:09.313180Z",
     "iopub.status.idle": "2021-05-12T12:28:09.317279Z",
     "shell.execute_reply": "2021-05-12T12:28:09.316692Z"
    },
    "papermill": {
     "duration": 0.029647,
     "end_time": "2021-05-12T12:28:09.317439",
     "exception": false,
     "start_time": "2021-05-12T12:28:09.287792",
     "status": "completed"
    },
    "tags": []
   },
   "outputs": [],
   "source": [
    "X = df_train[\"excerpt\"]\n",
    "\n",
    "y = df_train[\"target\"]\n",
    "\n",
    "X_train, X_test, y_train, y_test = train_test_split(X, y, test_size=0.1, random_state=42)"
   ]
  },
  {
   "cell_type": "code",
   "execution_count": 11,
   "id": "pacific-terminal",
   "metadata": {
    "execution": {
     "iopub.execute_input": "2021-05-12T12:28:09.361444Z",
     "iopub.status.busy": "2021-05-12T12:28:09.360420Z",
     "iopub.status.idle": "2021-05-12T12:28:09.365678Z",
     "shell.execute_reply": "2021-05-12T12:28:09.364911Z"
    },
    "papermill": {
     "duration": 0.030349,
     "end_time": "2021-05-12T12:28:09.365865",
     "exception": false,
     "start_time": "2021-05-12T12:28:09.335516",
     "status": "completed"
    },
    "tags": []
   },
   "outputs": [
    {
     "data": {
      "text/plain": [
       "((2550,), (284,), (2550,), (284,))"
      ]
     },
     "execution_count": 11,
     "metadata": {},
     "output_type": "execute_result"
    }
   ],
   "source": [
    "X_train.shape, X_test.shape, y_train.shape, y_test.shape"
   ]
  },
  {
   "cell_type": "code",
   "execution_count": 12,
   "id": "champion-implementation",
   "metadata": {
    "execution": {
     "iopub.execute_input": "2021-05-12T12:28:09.438076Z",
     "iopub.status.busy": "2021-05-12T12:28:09.432672Z",
     "iopub.status.idle": "2021-05-12T12:28:12.721502Z",
     "shell.execute_reply": "2021-05-12T12:28:12.722503Z"
    },
    "papermill": {
     "duration": 3.33824,
     "end_time": "2021-05-12T12:28:12.722821",
     "exception": false,
     "start_time": "2021-05-12T12:28:09.384581",
     "status": "completed"
    },
    "tags": []
   },
   "outputs": [
    {
     "data": {
      "text/plain": [
       "Pipeline(steps=[('bow',\n",
       "                 CountVectorizer(ngram_range=(1, 3), stop_words='english')),\n",
       "                ('tfidf', TfidfTransformer()),\n",
       "                ('classifier', Ridge(alpha=0.5))])"
      ]
     },
     "execution_count": 12,
     "metadata": {},
     "output_type": "execute_result"
    }
   ],
   "source": [
    "pipeline.fit(X_train, y_train)"
   ]
  },
  {
   "cell_type": "code",
   "execution_count": 13,
   "id": "moving-belief",
   "metadata": {
    "execution": {
     "iopub.execute_input": "2021-05-12T12:28:12.803837Z",
     "iopub.status.busy": "2021-05-12T12:28:12.802783Z",
     "iopub.status.idle": "2021-05-12T12:28:12.920839Z",
     "shell.execute_reply": "2021-05-12T12:28:12.920263Z"
    },
    "papermill": {
     "duration": 0.165323,
     "end_time": "2021-05-12T12:28:12.921011",
     "exception": false,
     "start_time": "2021-05-12T12:28:12.755688",
     "status": "completed"
    },
    "tags": []
   },
   "outputs": [],
   "source": [
    "predictions = pipeline.predict(X_test)"
   ]
  },
  {
   "cell_type": "code",
   "execution_count": 14,
   "id": "killing-nicaragua",
   "metadata": {
    "execution": {
     "iopub.execute_input": "2021-05-12T12:28:12.964478Z",
     "iopub.status.busy": "2021-05-12T12:28:12.963826Z",
     "iopub.status.idle": "2021-05-12T12:28:12.965830Z",
     "shell.execute_reply": "2021-05-12T12:28:12.966319Z"
    },
    "papermill": {
     "duration": 0.026774,
     "end_time": "2021-05-12T12:28:12.966503",
     "exception": false,
     "start_time": "2021-05-12T12:28:12.939729",
     "status": "completed"
    },
    "tags": []
   },
   "outputs": [],
   "source": [
    "#print(pipeline.score(X_train, y_train))"
   ]
  },
  {
   "cell_type": "code",
   "execution_count": 15,
   "id": "pregnant-conspiracy",
   "metadata": {
    "execution": {
     "iopub.execute_input": "2021-05-12T12:28:13.008523Z",
     "iopub.status.busy": "2021-05-12T12:28:13.007911Z",
     "iopub.status.idle": "2021-05-12T12:28:13.014642Z",
     "shell.execute_reply": "2021-05-12T12:28:13.014111Z"
    },
    "papermill": {
     "duration": 0.028772,
     "end_time": "2021-05-12T12:28:13.014812",
     "exception": false,
     "start_time": "2021-05-12T12:28:12.986040",
     "status": "completed"
    },
    "tags": []
   },
   "outputs": [
    {
     "name": "stdout",
     "output_type": "stream",
     "text": [
      "0.7668134540882492\n"
     ]
    }
   ],
   "source": [
    "print(np.sqrt(mean_squared_error(y_test, predictions)))"
   ]
  },
  {
   "cell_type": "code",
   "execution_count": 16,
   "id": "better-inventory",
   "metadata": {
    "execution": {
     "iopub.execute_input": "2021-05-12T12:28:13.063698Z",
     "iopub.status.busy": "2021-05-12T12:28:13.062985Z",
     "iopub.status.idle": "2021-05-12T12:28:13.067285Z",
     "shell.execute_reply": "2021-05-12T12:28:13.066774Z"
    },
    "papermill": {
     "duration": 0.033041,
     "end_time": "2021-05-12T12:28:13.067451",
     "exception": false,
     "start_time": "2021-05-12T12:28:13.034410",
     "status": "completed"
    },
    "tags": []
   },
   "outputs": [
    {
     "data": {
      "text/plain": [
       "array([ 0.18235437, -1.90161536, -0.61569516, -0.49182252, -0.3291093 ,\n",
       "       -1.77733105, -1.7268854 , -1.35360166, -1.97367766,  0.05448817,\n",
       "        0.01471592, -1.25706153, -0.52223421, -0.70485581,  0.12682376,\n",
       "       -0.88909039,  0.24095612, -1.34394204,  0.1337548 , -0.61097558,\n",
       "        0.65418379, -1.24481887, -1.75326462,  0.13071383, -0.97870299,\n",
       "       -1.96243829, -0.2671039 ,  0.43919021, -1.07990909, -1.19747725,\n",
       "       -1.48669104, -1.899635  , -0.05450516, -0.73903724,  0.84005697,\n",
       "       -0.8083583 , -0.22357875, -0.0521453 , -2.1669264 , -0.85100384,\n",
       "        0.36831876,  0.6900844 , -0.37963526, -1.14824885, -1.47166273,\n",
       "       -1.35623819, -1.63314374, -0.62580255, -1.04238985, -0.61573494,\n",
       "        0.21911429,  1.14297953, -0.07866103, -0.91223436, -0.92015457,\n",
       "       -0.92583284, -2.12464635, -1.1854055 , -0.33143113, -1.83299695,\n",
       "       -1.81784031, -0.92763888, -0.7578547 , -0.97947562, -0.15529837,\n",
       "        0.55252706,  1.02488414,  0.44702543, -0.33015361, -1.85626117,\n",
       "       -0.26405442, -1.25761316, -0.37800027, -1.35974544,  0.27531307,\n",
       "       -1.09947985, -0.50937348, -1.22817584, -0.11618686, -1.06193241,\n",
       "        0.85138505, -0.74129359, -1.37649714, -0.63091894, -0.23659708,\n",
       "       -2.12536211, -0.87779264, -1.42194979,  0.40742593, -0.88728752,\n",
       "       -0.05610924, -0.12376179, -0.12349052, -0.20496285, -0.5953776 ,\n",
       "       -0.57424833, -1.85215031, -1.55372167, -1.17172153,  0.55362817,\n",
       "       -1.78136838, -1.3941267 ,  0.07462875,  0.46375028,  0.52409767,\n",
       "       -0.27834147, -0.62228003, -0.10913872,  0.42425826, -2.16701018,\n",
       "       -1.07234034, -1.05801874, -0.56192296, -0.75813606,  0.39403434,\n",
       "       -1.25764617, -1.34703802, -0.97985499,  0.5819954 , -0.42997963,\n",
       "       -0.29037488, -1.48280199, -1.04445229, -0.12078751, -0.22220309,\n",
       "       -0.35760015, -1.37976873, -1.31789142, -0.06659316, -0.70348391,\n",
       "       -1.54515275, -0.04811483,  0.33040117, -1.35971433, -0.63957585,\n",
       "       -0.00623868, -1.5047196 ,  0.29062475, -2.13761083, -1.07037362,\n",
       "       -1.13821312,  0.25007663,  0.1139387 , -0.30170691, -0.1940183 ,\n",
       "        0.12577611, -0.27440901, -0.97274176, -0.93694628, -1.26550683,\n",
       "       -0.71922383, -1.99720855,  0.03073173, -0.16985108, -1.35404068,\n",
       "       -1.63800729, -2.29459502, -0.13234249, -0.94775217,  0.07050257,\n",
       "       -0.41819915, -1.37261589,  0.2848044 , -0.45875708,  1.14323482,\n",
       "       -1.24161178, -0.87800541, -0.62694875, -1.09520499, -1.75129276,\n",
       "       -1.30356613, -0.88898661, -0.87649565, -0.64244686, -0.36522958,\n",
       "       -0.7625796 , -0.49184559, -1.45910611, -0.9904845 , -0.84243681,\n",
       "       -0.47537907, -0.91858104, -0.15713057, -0.63968145,  0.67384381,\n",
       "       -0.71655299, -1.32810552, -1.31479725, -0.66529835, -0.21607439,\n",
       "       -1.47444686, -0.28404788, -1.89689861, -1.21633433, -0.62002126,\n",
       "       -0.62170931,  0.23792847,  0.55844556, -0.33023572, -0.96015869,\n",
       "        0.66424287, -1.72021044, -0.04391324, -0.67346498, -0.22575303,\n",
       "       -0.24433117,  0.64560326, -0.90648538, -0.50780221, -0.12481141,\n",
       "       -2.07651359, -0.78634002, -0.85836727, -1.74423438,  0.94152274,\n",
       "        0.07129639, -0.07890716, -1.85270321, -2.17014379, -1.23678971,\n",
       "        0.27404053, -0.97769411, -0.98660564, -1.96862404, -1.93917419,\n",
       "       -0.31954122, -0.08000897, -0.25907196,  0.28558676, -1.26557221,\n",
       "       -1.70068874,  0.18460683, -0.3029957 , -0.22072932, -0.91736084,\n",
       "       -1.21326851, -1.75004689, -1.19582474, -0.2581428 , -0.75597178,\n",
       "       -0.01081229,  1.02943267, -0.09307803, -2.08135001,  0.11170589,\n",
       "       -1.18744296, -1.08601129, -1.72791313,  0.07677288, -1.4239247 ,\n",
       "       -1.33679256,  0.52238871, -2.05694977, -0.43474553, -0.15437829,\n",
       "       -0.34641925,  0.37891199, -1.47486849, -1.14172451, -1.03051324,\n",
       "        0.95171569, -0.95827621,  0.23787882, -1.52237757, -0.25908871,\n",
       "        0.38345817, -0.74181514,  0.33604893, -0.86724228, -0.81470694,\n",
       "       -0.1748113 , -0.20118464, -0.17135502, -1.55679262, -0.87413183,\n",
       "        0.04319234, -1.98043852, -2.05757587, -0.37390223, -0.59918225,\n",
       "       -0.71725844,  0.14168745, -0.20767889, -0.50970766])"
      ]
     },
     "execution_count": 16,
     "metadata": {},
     "output_type": "execute_result"
    }
   ],
   "source": [
    "predictions"
   ]
  },
  {
   "cell_type": "code",
   "execution_count": 17,
   "id": "alpine-celebrity",
   "metadata": {
    "execution": {
     "iopub.execute_input": "2021-05-12T12:28:13.112058Z",
     "iopub.status.busy": "2021-05-12T12:28:13.111421Z",
     "iopub.status.idle": "2021-05-12T12:28:13.125367Z",
     "shell.execute_reply": "2021-05-12T12:28:13.125921Z"
    },
    "papermill": {
     "duration": 0.037875,
     "end_time": "2021-05-12T12:28:13.126107",
     "exception": false,
     "start_time": "2021-05-12T12:28:13.088232",
     "status": "completed"
    },
    "tags": []
   },
   "outputs": [],
   "source": [
    "predictions = pipeline.predict(df_test[\"excerpt\"])"
   ]
  },
  {
   "cell_type": "code",
   "execution_count": 18,
   "id": "built-theater",
   "metadata": {
    "execution": {
     "iopub.execute_input": "2021-05-12T12:28:13.169793Z",
     "iopub.status.busy": "2021-05-12T12:28:13.169165Z",
     "iopub.status.idle": "2021-05-12T12:28:13.174871Z",
     "shell.execute_reply": "2021-05-12T12:28:13.175388Z"
    },
    "papermill": {
     "duration": 0.029181,
     "end_time": "2021-05-12T12:28:13.175655",
     "exception": false,
     "start_time": "2021-05-12T12:28:13.146474",
     "status": "completed"
    },
    "tags": []
   },
   "outputs": [],
   "source": [
    "submission[\"target\"]=predictions"
   ]
  },
  {
   "cell_type": "code",
   "execution_count": 19,
   "id": "liquid-closer",
   "metadata": {
    "execution": {
     "iopub.execute_input": "2021-05-12T12:28:13.220623Z",
     "iopub.status.busy": "2021-05-12T12:28:13.219961Z",
     "iopub.status.idle": "2021-05-12T12:28:13.240881Z",
     "shell.execute_reply": "2021-05-12T12:28:13.240150Z"
    },
    "papermill": {
     "duration": 0.044042,
     "end_time": "2021-05-12T12:28:13.241051",
     "exception": false,
     "start_time": "2021-05-12T12:28:13.197009",
     "status": "completed"
    },
    "tags": []
   },
   "outputs": [
    {
     "data": {
      "text/html": [
       "<div>\n",
       "<style scoped>\n",
       "    .dataframe tbody tr th:only-of-type {\n",
       "        vertical-align: middle;\n",
       "    }\n",
       "\n",
       "    .dataframe tbody tr th {\n",
       "        vertical-align: top;\n",
       "    }\n",
       "\n",
       "    .dataframe thead th {\n",
       "        text-align: right;\n",
       "    }\n",
       "</style>\n",
       "<table border=\"1\" class=\"dataframe\">\n",
       "  <thead>\n",
       "    <tr style=\"text-align: right;\">\n",
       "      <th></th>\n",
       "      <th>id</th>\n",
       "      <th>url_legal</th>\n",
       "      <th>license</th>\n",
       "      <th>excerpt</th>\n",
       "    </tr>\n",
       "  </thead>\n",
       "  <tbody>\n",
       "    <tr>\n",
       "      <th>0</th>\n",
       "      <td>c0f722661</td>\n",
       "      <td>NaN</td>\n",
       "      <td>NaN</td>\n",
       "      <td>My hope lay in Jacks promise that he would kee...</td>\n",
       "    </tr>\n",
       "    <tr>\n",
       "      <th>1</th>\n",
       "      <td>f0953f0a5</td>\n",
       "      <td>NaN</td>\n",
       "      <td>NaN</td>\n",
       "      <td>Dotty continued to go to Mrs Grays every night...</td>\n",
       "    </tr>\n",
       "    <tr>\n",
       "      <th>2</th>\n",
       "      <td>0df072751</td>\n",
       "      <td>NaN</td>\n",
       "      <td>NaN</td>\n",
       "      <td>It was a bright and cheerful scene that greete...</td>\n",
       "    </tr>\n",
       "    <tr>\n",
       "      <th>3</th>\n",
       "      <td>04caf4e0c</td>\n",
       "      <td>https://en.wikipedia.org/wiki/Cell_division</td>\n",
       "      <td>CC BY-SA 3.0</td>\n",
       "      <td>Cell division is the process by which a parent...</td>\n",
       "    </tr>\n",
       "    <tr>\n",
       "      <th>4</th>\n",
       "      <td>0e63f8bea</td>\n",
       "      <td>https://en.wikipedia.org/wiki/Debugging</td>\n",
       "      <td>CC BY-SA 3.0</td>\n",
       "      <td>Debugging is the process of finding and resolv...</td>\n",
       "    </tr>\n",
       "    <tr>\n",
       "      <th>5</th>\n",
       "      <td>12537fe78</td>\n",
       "      <td>NaN</td>\n",
       "      <td>NaN</td>\n",
       "      <td>To explain transitivity let us look first at a...</td>\n",
       "    </tr>\n",
       "    <tr>\n",
       "      <th>6</th>\n",
       "      <td>965e592c0</td>\n",
       "      <td>https://www.africanstorybook.org/#</td>\n",
       "      <td>CC BY 4.0</td>\n",
       "      <td>Milka and John are playing in the garden Her l...</td>\n",
       "    </tr>\n",
       "  </tbody>\n",
       "</table>\n",
       "</div>"
      ],
      "text/plain": [
       "          id                                    url_legal       license  \\\n",
       "0  c0f722661                                          NaN           NaN   \n",
       "1  f0953f0a5                                          NaN           NaN   \n",
       "2  0df072751                                          NaN           NaN   \n",
       "3  04caf4e0c  https://en.wikipedia.org/wiki/Cell_division  CC BY-SA 3.0   \n",
       "4  0e63f8bea      https://en.wikipedia.org/wiki/Debugging  CC BY-SA 3.0   \n",
       "5  12537fe78                                          NaN           NaN   \n",
       "6  965e592c0           https://www.africanstorybook.org/#     CC BY 4.0   \n",
       "\n",
       "                                             excerpt  \n",
       "0  My hope lay in Jacks promise that he would kee...  \n",
       "1  Dotty continued to go to Mrs Grays every night...  \n",
       "2  It was a bright and cheerful scene that greete...  \n",
       "3  Cell division is the process by which a parent...  \n",
       "4  Debugging is the process of finding and resolv...  \n",
       "5  To explain transitivity let us look first at a...  \n",
       "6  Milka and John are playing in the garden Her l...  "
      ]
     },
     "execution_count": 19,
     "metadata": {},
     "output_type": "execute_result"
    }
   ],
   "source": [
    "df_test"
   ]
  },
  {
   "cell_type": "code",
   "execution_count": 20,
   "id": "raised-joyce",
   "metadata": {
    "execution": {
     "iopub.execute_input": "2021-05-12T12:28:13.289928Z",
     "iopub.status.busy": "2021-05-12T12:28:13.289129Z",
     "iopub.status.idle": "2021-05-12T12:28:13.292447Z",
     "shell.execute_reply": "2021-05-12T12:28:13.291887Z"
    },
    "papermill": {
     "duration": 0.030134,
     "end_time": "2021-05-12T12:28:13.292630",
     "exception": false,
     "start_time": "2021-05-12T12:28:13.262496",
     "status": "completed"
    },
    "tags": []
   },
   "outputs": [],
   "source": [
    "submission.set_index(\"id\", inplace=True)"
   ]
  },
  {
   "cell_type": "code",
   "execution_count": 21,
   "id": "adopted-estimate",
   "metadata": {
    "execution": {
     "iopub.execute_input": "2021-05-12T12:28:13.345426Z",
     "iopub.status.busy": "2021-05-12T12:28:13.344416Z",
     "iopub.status.idle": "2021-05-12T12:28:13.349438Z",
     "shell.execute_reply": "2021-05-12T12:28:13.348905Z"
    },
    "papermill": {
     "duration": 0.035669,
     "end_time": "2021-05-12T12:28:13.349608",
     "exception": false,
     "start_time": "2021-05-12T12:28:13.313939",
     "status": "completed"
    },
    "tags": []
   },
   "outputs": [
    {
     "data": {
      "text/html": [
       "<div>\n",
       "<style scoped>\n",
       "    .dataframe tbody tr th:only-of-type {\n",
       "        vertical-align: middle;\n",
       "    }\n",
       "\n",
       "    .dataframe tbody tr th {\n",
       "        vertical-align: top;\n",
       "    }\n",
       "\n",
       "    .dataframe thead th {\n",
       "        text-align: right;\n",
       "    }\n",
       "</style>\n",
       "<table border=\"1\" class=\"dataframe\">\n",
       "  <thead>\n",
       "    <tr style=\"text-align: right;\">\n",
       "      <th></th>\n",
       "      <th>target</th>\n",
       "    </tr>\n",
       "    <tr>\n",
       "      <th>id</th>\n",
       "      <th></th>\n",
       "    </tr>\n",
       "  </thead>\n",
       "  <tbody>\n",
       "    <tr>\n",
       "      <th>c0f722661</th>\n",
       "      <td>-1.459372</td>\n",
       "    </tr>\n",
       "    <tr>\n",
       "      <th>f0953f0a5</th>\n",
       "      <td>-0.084465</td>\n",
       "    </tr>\n",
       "    <tr>\n",
       "      <th>0df072751</th>\n",
       "      <td>-0.366340</td>\n",
       "    </tr>\n",
       "    <tr>\n",
       "      <th>04caf4e0c</th>\n",
       "      <td>-1.635389</td>\n",
       "    </tr>\n",
       "    <tr>\n",
       "      <th>0e63f8bea</th>\n",
       "      <td>-1.423051</td>\n",
       "    </tr>\n",
       "    <tr>\n",
       "      <th>12537fe78</th>\n",
       "      <td>-0.897324</td>\n",
       "    </tr>\n",
       "    <tr>\n",
       "      <th>965e592c0</th>\n",
       "      <td>0.347013</td>\n",
       "    </tr>\n",
       "  </tbody>\n",
       "</table>\n",
       "</div>"
      ],
      "text/plain": [
       "             target\n",
       "id                 \n",
       "c0f722661 -1.459372\n",
       "f0953f0a5 -0.084465\n",
       "0df072751 -0.366340\n",
       "04caf4e0c -1.635389\n",
       "0e63f8bea -1.423051\n",
       "12537fe78 -0.897324\n",
       "965e592c0  0.347013"
      ]
     },
     "execution_count": 21,
     "metadata": {},
     "output_type": "execute_result"
    }
   ],
   "source": [
    "submission"
   ]
  },
  {
   "cell_type": "code",
   "execution_count": 22,
   "id": "raising-bible",
   "metadata": {
    "execution": {
     "iopub.execute_input": "2021-05-12T12:28:13.398303Z",
     "iopub.status.busy": "2021-05-12T12:28:13.397651Z",
     "iopub.status.idle": "2021-05-12T12:28:13.404332Z",
     "shell.execute_reply": "2021-05-12T12:28:13.403706Z"
    },
    "papermill": {
     "duration": 0.033024,
     "end_time": "2021-05-12T12:28:13.404492",
     "exception": false,
     "start_time": "2021-05-12T12:28:13.371468",
     "status": "completed"
    },
    "tags": []
   },
   "outputs": [],
   "source": [
    "submission.to_csv(\"submission.csv\")"
   ]
  },
  {
   "cell_type": "code",
   "execution_count": null,
   "id": "annual-generator",
   "metadata": {
    "papermill": {
     "duration": 0.021681,
     "end_time": "2021-05-12T12:28:13.448362",
     "exception": false,
     "start_time": "2021-05-12T12:28:13.426681",
     "status": "completed"
    },
    "tags": []
   },
   "outputs": [],
   "source": []
  }
 ],
 "metadata": {
  "kernelspec": {
   "display_name": "Python 3",
   "language": "python",
   "name": "python3"
  },
  "language_info": {
   "codemirror_mode": {
    "name": "ipython",
    "version": 3
   },
   "file_extension": ".py",
   "mimetype": "text/x-python",
   "name": "python",
   "nbconvert_exporter": "python",
   "pygments_lexer": "ipython3",
   "version": "3.7.10"
  },
  "papermill": {
   "default_parameters": {},
   "duration": 16.84877,
   "end_time": "2021-05-12T12:28:15.192632",
   "environment_variables": {},
   "exception": null,
   "input_path": "__notebook__.ipynb",
   "output_path": "__notebook__.ipynb",
   "parameters": {},
   "start_time": "2021-05-12T12:27:58.343862",
   "version": "2.3.3"
  }
 },
 "nbformat": 4,
 "nbformat_minor": 5
}
